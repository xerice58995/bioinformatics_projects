{
 "cells": [
  {
   "cell_type": "code",
   "execution_count": 3,
   "id": "bd1a0883-2b35-4ec9-b75e-00352a9b88a8",
   "metadata": {},
   "outputs": [],
   "source": [
    "from collections import Counter\n",
    "from Bio import SeqIO\n",
    "import pandas as pd\n",
    "# Counter for 3-mer counts"
   ]
  },
  {
   "cell_type": "code",
   "execution_count": 7,
   "id": "59a3aea9-4a78-4390-86c9-1b4b4c7b938f",
   "metadata": {},
   "outputs": [],
   "source": [
    "def gc_content(seq):\n",
    "    seq = seq.upper() \n",
    "    gc_count = seq.count(\"G\") +seq.count(\"C\")\n",
    "    return round((gc_count / len(seq)) * 100, 2) if len(seq) > 0 else 0\n",
    "    # GC proportion for given sequence"
   ]
  },
  {
   "cell_type": "code",
   "execution_count": 9,
   "id": "c9cc77e1-94ff-4f58-8917-bbd1b5e9f266",
   "metadata": {},
   "outputs": [],
   "source": [
    "def search_kmers(seq, k = 3):\n",
    "    seq = seq.upper()\n",
    "    return [seq[i:i + k] for i in range(len(seq) - k + 1)]\n",
    "    #find all possible 3-mer combinations"
   ]
  },
  {
   "cell_type": "code",
   "execution_count": 41,
   "id": "63ed70ff-25c7-492f-96b2-52c68af56c78",
   "metadata": {},
   "outputs": [],
   "source": [
    "def fasta_tool(fasta_file, gc_threshold = 30, min_length = 100):\n",
    "    gene_records = list(SeqIO.parse(fasta_file, \"fasta\"))\n",
    "    # minumum GC composition = 30% is a crucial bio feature and DNA stability\n",
    "    # minimum base piar length = 100 to filter out non useful parts\n",
    "    # use SeqIO attributes .id, .description, .seq to manipulate data\n",
    "    \n",
    "    result = []\n",
    "    kmer_counter = Counter()\n",
    "    # store selected sequences and useful k-mers\n",
    "    \n",
    "    for record in gene_records:\n",
    "        seq = str(record.seq).upper()\n",
    "        seq_len = len(seq)\n",
    "        gc_percentage = gc_content(seq)\n",
    "\n",
    "        if seq_len < min_length or gc_percentage < gc_threshold:\n",
    "            continue\n",
    "    # threshold for given seq, aiming to rule out unqualified data\n",
    "\n",
    "        kmers = search_kmers(seq, k = 3)\n",
    "        kmer_counter.update(kmers)\n",
    "    # find all kmers in sequence produced by SeqIO, and store data into counter\n",
    "\n",
    "        result.append({\n",
    "            \"ID\": record.id,\n",
    "            \"Length\": seq_len,\n",
    "            \"GC_%\": gc_percentage,\n",
    "            \"Abstract(First_50bp)\": seq[:50]\n",
    "        })\n",
    "    # basic info for every sequence and its abstract\n",
    "\n",
    "    data_frame = pd.DataFrame(result)\n",
    "    kmer_data_frame = pd.DataFrame(kmer_counter.most_common(10), columns = [\"3mers\", \"Counts\"])\n",
    "    # our 2 forms produced from given fasta file, including 1. sequence info, 2. common 3mers\n",
    "    \n",
    "    data_frame.to_csv(\"_fasta_sequence_report.csv\", index = False)\n",
    "    kmer_data_frame.to_csv(\"most_common_kmers.csv\", index = False)\n",
    "\n",
    "    return data_frame, kmer_data_frame\n",
    "    \n",
    "        "
   ]
  },
  {
   "cell_type": "code",
   "execution_count": 61,
   "id": "a0e690d7-831b-4ba7-bf9c-61cd59b509ff",
   "metadata": {},
   "outputs": [
    {
     "data": {
      "text/html": [
       "<div>\n",
       "<style scoped>\n",
       "    .dataframe tbody tr th:only-of-type {\n",
       "        vertical-align: middle;\n",
       "    }\n",
       "\n",
       "    .dataframe tbody tr th {\n",
       "        vertical-align: top;\n",
       "    }\n",
       "\n",
       "    .dataframe thead th {\n",
       "        text-align: right;\n",
       "    }\n",
       "</style>\n",
       "<table border=\"1\" class=\"dataframe\">\n",
       "  <thead>\n",
       "    <tr style=\"text-align: right;\">\n",
       "      <th></th>\n",
       "      <th>3mers</th>\n",
       "      <th>Counts</th>\n",
       "    </tr>\n",
       "  </thead>\n",
       "  <tbody>\n",
       "    <tr>\n",
       "      <th>0</th>\n",
       "      <td>CCT</td>\n",
       "      <td>19</td>\n",
       "    </tr>\n",
       "    <tr>\n",
       "      <th>1</th>\n",
       "      <td>CTC</td>\n",
       "      <td>18</td>\n",
       "    </tr>\n",
       "    <tr>\n",
       "      <th>2</th>\n",
       "      <td>GGG</td>\n",
       "      <td>15</td>\n",
       "    </tr>\n",
       "    <tr>\n",
       "      <th>3</th>\n",
       "      <td>CCC</td>\n",
       "      <td>14</td>\n",
       "    </tr>\n",
       "    <tr>\n",
       "      <th>4</th>\n",
       "      <td>TCC</td>\n",
       "      <td>14</td>\n",
       "    </tr>\n",
       "    <tr>\n",
       "      <th>5</th>\n",
       "      <td>CCA</td>\n",
       "      <td>13</td>\n",
       "    </tr>\n",
       "    <tr>\n",
       "      <th>6</th>\n",
       "      <td>GCC</td>\n",
       "      <td>13</td>\n",
       "    </tr>\n",
       "    <tr>\n",
       "      <th>7</th>\n",
       "      <td>ATG</td>\n",
       "      <td>11</td>\n",
       "    </tr>\n",
       "    <tr>\n",
       "      <th>8</th>\n",
       "      <td>TGA</td>\n",
       "      <td>11</td>\n",
       "    </tr>\n",
       "    <tr>\n",
       "      <th>9</th>\n",
       "      <td>CAG</td>\n",
       "      <td>10</td>\n",
       "    </tr>\n",
       "  </tbody>\n",
       "</table>\n",
       "</div>"
      ],
      "text/plain": [
       "  3mers  Counts\n",
       "0   CCT      19\n",
       "1   CTC      18\n",
       "2   GGG      15\n",
       "3   CCC      14\n",
       "4   TCC      14\n",
       "5   CCA      13\n",
       "6   GCC      13\n",
       "7   ATG      11\n",
       "8   TGA      11\n",
       "9   CAG      10"
      ]
     },
     "execution_count": 61,
     "metadata": {},
     "output_type": "execute_result"
    }
   ],
   "source": [
    "df, kmer = fasta_tool(\"Geninfo_sample.fasta\", gc_threshold = 30, min_length = 100)\n",
    "df.head()   # sequence info\n",
    "kmer        # common 3mers"
   ]
  },
  {
   "cell_type": "code",
   "execution_count": 75,
   "id": "17de96b3-a989-4794-b615-75d5cc4a42df",
   "metadata": {},
   "outputs": [
    {
     "data": {
      "image/png": "[encoded data removed]",
      "text/plain": [
       "<Figure size 1000x500 with 1 Axes>"
      ]
     },
     "metadata": {},
     "output_type": "display_data"
    }
   ],
   "source": [
    "import matplotlib.pyplot as plt\n",
    "\n",
    "def gc_distribution(df):\n",
    "    plt.figure(figsize=(10, 5))\n",
    "    plt.hist(df[\"GC_%\"], bins=20, color=\"blue\", edgecolor=\"black\")\n",
    "    plt.title(\"GC Content Distribution\")\n",
    "    plt.xlabel(\"GC Content (%)\")\n",
    "    plt.ylabel(\"Number of Sequences\")\n",
    "    plt.grid(True)\n",
    "    plt.show()\n",
    "\n",
    "gc_distribution(df)\n",
    "# simple visualization for our output"
   ]
  },
  {
   "cell_type": "code",
   "execution_count": null,
   "id": "a5320efb-7181-4a28-8d84-06aea586f3e2",
   "metadata": {},
   "outputs": [],
   "source": []
  }
 ],
 "metadata": {
  "kernelspec": {
   "display_name": "Python [conda env:base] *",
   "language": "python",
   "name": "conda-base-py"
  },
  "language_info": {
   "codemirror_mode": {
    "name": "ipython",
    "version": 3
   },
   "file_extension": ".py",
   "mimetype": "text/x-python",
   "name": "python",
   "nbconvert_exporter": "python",
   "pygments_lexer": "ipython3",
   "version": "3.12.7"
  }
 },
 "nbformat": 4,
 "nbformat_minor": 5
}
